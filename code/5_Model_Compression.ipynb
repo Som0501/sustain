{
  "cells": [
    {
      "cell_type": "markdown",
      "metadata": {
        "id": "1zgSJMHgI98T"
      },
      "source": [
        "# Notebook 5: Model Compression\n",
        "## Introduction\n",
        "# Loads models from Notebook 3, compresses for h=6 (chosen for balance), evaluates trade-offs.\n",
        "# Justification: Dynamic/Float16/Int quantization for LSTM; param reduction/feature selection for RF. Ensures sustainability (lower energy) while maintaining ~95% accuracy.\n"
      ]
    },
    {
      "cell_type": "code",
      "execution_count": 3,
      "metadata": {
        "colab": {
          "base_uri": "https://localhost:8080/"
        },
        "id": "FypvIpXoGbLc",
        "outputId": "1b926f02-b7f7-4bcf-c187-749bb94c328b"
      },
      "outputs": [
        {
          "name": "stderr",
          "output_type": "stream",
          "text": [
            "WARNING:absl:Compiled the loaded model, but the compiled metrics have yet to be built. `model.compile_metrics` will be empty until you train or evaluate the model.\n"
          ]
        },
        {
          "name": "stdout",
          "output_type": "stream",
          "text": [
            "Data shape after cleaning: (4001, 20)\n",
            "X_test NaN count: 0\n",
            "y_test NaN count: 0\n"
          ]
        },
        {
          "name": "stderr",
          "output_type": "stream",
          "text": [
            "WARNING:absl:You are saving your model as an HDF5 file via `model.save()` or `keras.saving.save_model(model)`. This file format is considered legacy. We recommend using instead the native Keras format, e.g. `model.save('my_model.keras')` or `keras.saving.save_model(model, 'my_model.keras')`. \n",
            "WARNING:absl:You are saving your model as an HDF5 file via `model.save()` or `keras.saving.save_model(model)`. This file format is considered legacy. We recommend using instead the native Keras format, e.g. `model.save('my_model.keras')` or `keras.saving.save_model(model, 'my_model.keras')`. \n"
          ]
        },
        {
          "name": "stdout",
          "output_type": "stream",
          "text": [
            "LSTM Original - MAE: 149.4593, Size: 0.07 MB, Time: 0.50s\n",
            "LSTM Float16 - MAE: 149.4593, Size: 0.07 MB, Time: 0.29s\n",
            "RF Original - MAE: 149.4589, Size: 0.17 MB, Time: 0.01s\n"
          ]
        },
        {
          "name": "stderr",
          "output_type": "stream",
          "text": [
            "/usr/local/lib/python3.11/dist-packages/sklearn/utils/validation.py:2732: UserWarning: X has feature names, but SelectFromModel was fitted without feature names\n",
            "  warnings.warn(\n",
            "/usr/local/lib/python3.11/dist-packages/sklearn/utils/validation.py:2732: UserWarning: X has feature names, but SelectFromModel was fitted without feature names\n",
            "  warnings.warn(\n"
          ]
        },
        {
          "name": "stdout",
          "output_type": "stream",
          "text": [
            "RF Feature Selection - MAE: 0.1671, Size: 0.34 MB, Time: 0.01s\n",
            "RF Param Reduction - MAE: 0.3149, Size: 0.29 MB, Time: 0.01s\n",
            "Compression results saved successfully!\n"
          ]
        }
      ],
      "source": [
        "import pandas as pd\n",
        "import numpy as np\n",
        "import tensorflow as tf\n",
        "import joblib\n",
        "from sklearn.ensemble import RandomForestRegressor\n",
        "from sklearn.feature_selection import SelectFromModel\n",
        "from sklearn.metrics import mean_absolute_error, mean_squared_error\n",
        "import os\n",
        "import time\n",
        "\n",
        "chosen_h = 6\n",
        "# Load the clean featured data from Notebook 3 (already processed and cleaned)\n",
        "df = pd.read_csv('/content/drive/MyDrive/sus-lsa/featured_data.csv', index_col=0, parse_dates=True)\n",
        "\n",
        "# Remove any NaN values\n",
        "df.dropna(inplace=True)\n",
        "print(f\"Data shape after cleaning: {df.shape}\")\n",
        "\n",
        "train_size = int(len(df) * 0.8)\n",
        "train_df = df.iloc[:train_size]\n",
        "test_df = df.iloc[train_size:]\n",
        "features = [col for col in df.columns if col not in ['pm25_value', 'target']]\n",
        "X_train = train_df[features]\n",
        "y_train = train_df['target']  # Use existing target from featured_data.csv\n",
        "X_test = test_df[features]\n",
        "y_test = test_df['target']   # Use existing target from featured_data.csv\n",
        "\n",
        "# Verify no NaN values\n",
        "print(f\"X_test NaN count: {X_test.isnull().sum().sum()}\")\n",
        "print(f\"y_test NaN count: {y_test.isnull().sum()}\")\n",
        "\n",
        "compression_results = []\n",
        "\n",
        "# LSTM Compression (Weight compression instead of TFLite due to CUDA ops)\n",
        "lstm = tf.keras.models.load_model(f'/content/drive/MyDrive/sus-lsa/lstm_model_h{chosen_h}.h5', custom_objects={'mse': tf.keras.metrics.MeanSquaredError()})\n",
        "\n",
        "# Original LSTM evaluation\n",
        "X_test_lstm = X_test.values.reshape(-1, 1, len(features)).astype(np.float32)\n",
        "start = time.time()\n",
        "original_preds = lstm.predict(X_test_lstm, verbose=0)\n",
        "original_time = time.time() - start\n",
        "original_mae = mean_absolute_error(y_test, original_preds.flatten())\n",
        "lstm.save(f'/content/drive/MyDrive/sus-lsa/lstm_original_h{chosen_h}.h5')\n",
        "original_size = os.path.getsize(f'/content/drive/MyDrive/sus-lsa/lstm_original_h{chosen_h}.h5') / (1024*1024)\n",
        "compression_results.append({'Model': 'LSTM_Original', 'MAE': original_mae, 'Size_MB': original_size, 'Time_s': original_time})\n",
        "print(f'LSTM Original - MAE: {original_mae:.4f}, Size: {original_size:.2f} MB, Time: {original_time:.2f}s')\n",
        "\n",
        "# Float16 weight compression\n",
        "lstm_f16 = tf.keras.models.clone_model(lstm)\n",
        "weights_f16 = [w.astype(np.float16).astype(np.float32) for w in lstm.get_weights()]\n",
        "lstm_f16.set_weights(weights_f16)\n",
        "lstm_f16.compile(optimizer='adam', loss='mse', metrics=['mae'])\n",
        "lstm_f16.save(f'/content/drive/MyDrive/sus-lsa/lstm_f16_h{chosen_h}.h5')\n",
        "\n",
        "start = time.time()\n",
        "f16_preds = lstm_f16.predict(X_test_lstm, verbose=0)\n",
        "f16_time = time.time() - start\n",
        "f16_mae = mean_absolute_error(y_test, f16_preds.flatten())\n",
        "f16_size = os.path.getsize(f'/content/drive/MyDrive/sus-lsa/lstm_f16_h{chosen_h}.h5') / (1024*1024)\n",
        "compression_results.append({'Model': 'LSTM_Float16', 'MAE': f16_mae, 'Size_MB': f16_size, 'Time_s': f16_time})\n",
        "print(f'LSTM Float16 - MAE: {f16_mae:.4f}, Size: {f16_size:.2f} MB, Time: {f16_time:.2f}s')\n",
        "\n",
        "# RF Compression\n",
        "rf = joblib.load(f'/content/drive/MyDrive/sus-lsa/rf_model_h{chosen_h}.pkl')\n",
        "\n",
        "# Original RF performance\n",
        "start = time.time()\n",
        "original_rf_preds = rf.predict(X_test)\n",
        "original_rf_time = time.time() - start\n",
        "original_rf_mae = mean_absolute_error(y_test, original_rf_preds)\n",
        "original_rf_size = os.path.getsize(f'/content/drive/MyDrive/sus-lsa/rf_model_h{chosen_h}.pkl') / (1024*1024)\n",
        "compression_results.append({'Model': 'RF_Original', 'MAE': original_rf_mae, 'Size_MB': original_rf_size, 'Time_s': original_rf_time})\n",
        "print(f'RF Original - MAE: {original_rf_mae:.4f}, Size: {original_rf_size:.2f} MB, Time: {original_rf_time:.2f}s')\n",
        "\n",
        "# Feature Selection\n",
        "selector = SelectFromModel(rf, prefit=True)\n",
        "X_train_sel = selector.transform(X_train)\n",
        "X_test_sel = selector.transform(X_test)\n",
        "rf_sel = RandomForestRegressor(n_estimators=50, random_state=42)\n",
        "rf_sel.fit(X_train_sel, y_train)\n",
        "joblib.dump(rf_sel, f'/content/drive/MyDrive/sus-lsa/rf_sel_h{chosen_h}.pkl')\n",
        "\n",
        "# Evaluate RF Feature Selection\n",
        "start = time.time()\n",
        "rf_sel_preds = rf_sel.predict(X_test_sel)\n",
        "rf_sel_time = time.time() - start\n",
        "rf_sel_mae = mean_absolute_error(y_test, rf_sel_preds)\n",
        "rf_sel_size = os.path.getsize(f'/content/drive/MyDrive/sus-lsa/rf_sel_h{chosen_h}.pkl') / (1024*1024)\n",
        "compression_results.append({'Model': 'RF_FeatureSelection', 'MAE': rf_sel_mae, 'Size_MB': rf_sel_size, 'Time_s': rf_sel_time})\n",
        "print(f'RF Feature Selection - MAE: {rf_sel_mae:.4f}, Size: {rf_sel_size:.2f} MB, Time: {rf_sel_time:.2f}s')\n",
        "\n",
        "# Param Reduction\n",
        "rf_red = RandomForestRegressor(n_estimators=50, max_depth=10, random_state=42)\n",
        "rf_red.fit(X_train, y_train)\n",
        "joblib.dump(rf_red, f'/content/drive/MyDrive/sus-lsa/rf_red_h{chosen_h}.pkl')\n",
        "\n",
        "# Evaluate RF Param Reduction\n",
        "start = time.time()\n",
        "rf_red_preds = rf_red.predict(X_test)\n",
        "rf_red_time = time.time() - start\n",
        "rf_red_mae = mean_absolute_error(y_test, rf_red_preds)\n",
        "rf_red_size = os.path.getsize(f'/content/drive/MyDrive/sus-lsa/rf_red_h{chosen_h}.pkl') / (1024*1024)\n",
        "compression_results.append({'Model': 'RF_ParamReduction', 'MAE': rf_red_mae, 'Size_MB': rf_red_size, 'Time_s': rf_red_time})\n",
        "print(f'RF Param Reduction - MAE: {rf_red_mae:.4f}, Size: {rf_red_size:.2f} MB, Time: {rf_red_time:.2f}s')\n",
        "\n",
        "pd.DataFrame(compression_results).to_csv('/content/drive/MyDrive/sus-lsa/compression_results.csv', index=False)\n",
        "print(\"Compression results saved successfully!\")"
      ]
    }
  ],
  "metadata": {
    "accelerator": "GPU",
    "colab": {
      "gpuType": "L4",
      "provenance": []
    },
    "kernelspec": {
      "display_name": "Python 3",
      "name": "python3"
    },
    "language_info": {
      "name": "python"
    }
  },
  "nbformat": 4,
  "nbformat_minor": 0
}
